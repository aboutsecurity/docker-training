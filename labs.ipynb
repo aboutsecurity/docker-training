{
 "cells": [
  {
   "cell_type": "markdown",
   "metadata": {},
   "source": [
    "# Understanding Containerization\n",
    "### Docker Containers: Fundamentals, Security, and Hands-On Labs"
   ]
  },
  {
   "cell_type": "markdown",
   "metadata": {},
   "source": [
    "## Prerequisites:\n",
    "\n",
    "- Basic understanding of command-line interfaces (Linux/bash or Windows PowerShell preferred)\n",
    "- Basic familiarity with virtualization concepts (desirable)\n",
    "\n",
    "## Software:\n",
    "\n",
    "- Docker Desktop installed (or another compatible Docker environment)"
   ]
  },
  {
   "cell_type": "markdown",
   "metadata": {},
   "source": [
    "## Agenda\n",
    "\n",
    "1. Introduction & Core Concepts\n",
    "    - Lab 1: Basic Container Operations\n",
    "3. Building Images and Dockerfiles\n",
    "    - Lab 2: Creating a Dockerfile \n",
    "    - Lab 3: Docker Compose for Multi-Container App\n",
    "4. Docker Security \n",
    "    - Image Security\n",
    "    - Container Runtime Security\n",
    "    - Demo: Compromise Emulation\n",
    "5. Networking and Storage\n",
    "    - Port Mapping\n",
    "    - Docker Volumes\n",
    "    - Lab 4: Communicating Containers\n",
    "6. Conclusions and what's next\n",
    "\n",
    "\n",
    "\n",
    "\n"
   ]
  },
  {
   "cell_type": "markdown",
   "metadata": {},
   "source": [
    "## Lab 1 - Basic Container Operations\n",
    "###  See Docker CLI cheat sheet here: https://docs.docker.com/get-started/docker_cheatsheet.pdf"
   ]
  },
  {
   "cell_type": "markdown",
   "metadata": {},
   "source": [
    "1. Pulling an Image\n",
    "\n",
    "    -  Open a terminal or command prompt.\n",
    "\n",
    "    -  Run the command: `docker pull nginx`\n",
    "\n",
    "2. Running a Container\n",
    "\n",
    "    - Run the command: `docker run -d -p 80:80 nginx`\n",
    "\n",
    "    - **Explanation:** \n",
    "\n",
    "        - `-d` runs the container in detached mode (background)\n",
    "\n",
    "        - `-p` 80:80 maps port 80 of the container to port 80 on your host machine.\n",
    "\n",
    "        - The official Docker ngnix image can be found here: https://hub.docker.com/_/nginx \n",
    "\n",
    "3. Verifying the Container\n",
    "\n",
    "    -   Open a web browser and go to `http://localhost`. You should see the Nginx welcome page.\n",
    "\n",
    "    -   In your terminal, type: `docker ps` to list running containers.\n",
    "\n",
    "4. Stopping and Removing\n",
    "\n",
    "    - Get the container ID from `docker ps`.\n",
    "\n",
    "    - Stop the container: docker stop <container_id>\n",
    "    \n",
    "    - Remove the container: docker rm <container_id>\n",
    "\n",
    "    - Bonus command-line tricks for cleaning up unused containers and freeing up disk space:\n",
    "\n",
    "        - `docker ps -a -q`: This command lists all containers, including stopped ones (-a flag), and extracts only their container IDs (-q flag). It provides a list of container IDs that have exited or are currently stopped.\n",
    "        \n",
    "        - `docker stop $(docker ps -a -q)`: Stops all running containers\n",
    "        \n",
    "        - `docker rm $(docker ps -a -q)`: Removes all containers"
   ]
  },
  {
   "cell_type": "markdown",
   "metadata": {},
   "source": [
    "## Lab 2 - Building a Custom Docker Image for a Web App"
   ]
  },
  {
   "cell_type": "markdown",
   "metadata": {},
   "source": [
    "1. Create a Working Directory\n",
    "\n",
    "    - Open your terminal or command prompt.\n",
    "\n",
    "    - Create a new directory for this exercise (e.g., docker-training): `mkdir docker-training`\n",
    "\n",
    "    - Change into that directory: `cd docker-training`\n",
    "\n",
    "\n",
    "2. Create a Simple Web Application:\n",
    "\n",
    "    - Inside the docker-training directory, create an index.html file with some basic content (e.g., “Hello, Docker!”).\n",
    "    \n",
    "        `echo \"Hello, Docker\" > index.html`\n",
    "        \n",
    "\n",
    "3. Create a Dockerfile\n",
    "\n",
    "    - Create a Dockerfile (case-sensitive) in the same directory using a text editor or code editor.\n",
    "\n",
    "        `touch Dockerfile`\n",
    "\n",
    "    - Specify a non-root user (e.g., appuser) to run the container:\n",
    "\n",
    "        ```\n",
    "        # Dockerfile\n",
    "        FROM nginx\n",
    "        COPY index.html /usr/share/nginx/html\n",
    "        ```\n",
    "<br>\n",
    "\n",
    "4. Build the Custom Image\n",
    "\n",
    "    - Build the Docker image using the Dockerfile: `docker build -t my-web-app .` (Don't forget the period at the end).\n",
    "\n",
    "    - **Explanation**:\n",
    "\n",
    "        - `-t my-web-app`: The -t option stands for \"tag\". This part of the command tags the resulting image with a name and optionally a tag in the 'name:tag' format. If you don't specify a tag, Docker will assign the latest tag by default. Here, my-web-app is the name you're giving to the Docker image. This makes it easier to reference the image later, for example, when you want to run a container based on this image.\n",
    "\n",
    "        - `.`: This specifies the context for the build. In Docker, the build context is the set of files located in the specified PATH or URL. The Docker build process can use any files in the context to build the image. In this case, . means the current directory you're in when you run the command. Docker will look for a Dockerfile in this directory to build the image. If your Dockerfile is named differently or located elsewhere, you would need to use the -f option to specify the path to the Dockerfile.\n",
    "\n",
    "\n",
    "5. Run the Container\n",
    "\n",
    "    - Start a container from the custom image: `docker run -d -p 8080:80 my-web-app`\n",
    "\n",
    "    - Open a web browser and go to `http://localhost:8080`\n",
    "\n",
    "    <br>\n",
    "\n",
    "6. Verify User is Running As\n",
    "\n",
    "    - Check that the container is running as the non-root user: `docker exec -it <container_id> whoami`\n",
    "\n",
    "    - **Explanation**:\n",
    "\n",
    "        - `docker exec`: This is the main command that tells Docker to execute a specific command inside a running container.\n",
    "        \n",
    "        - `it`: This option is a combination of -i and -t flags:\n",
    "        \n",
    "            - `i` (or --interactive) keeps STDIN open even if not attached. This allows you to interact with the command if necessary.\n",
    "\n",
    "            - `t` (or --tty) allocates a pseudo-TTY, which means it simulates a terminal, similar to what you would get if you were to log into a session on the container. This is useful for commands that require a terminal to operate properly, like shell sessions.\n",
    "\n",
    "        - `whoami`: This is the command to be executed inside the container. whoami is a UNIX command that displays the username of the current user. When run in the context of this Docker command, it will display the username of the user inside the container, not the host machine.\n",
    "\n"
   ]
  },
  {
   "cell_type": "markdown",
   "metadata": {},
   "source": [
    "## Lab 3 - Docker Compose for Multi-Container App"
   ]
  },
  {
   "cell_type": "markdown",
   "metadata": {},
   "source": [
    "1. Create a Docker Compose File\n",
    "\n",
    "    - In the same docker-training directory, create a docker-compose.yml file:\n",
    "\n",
    "    ```\n",
    "    version: '3'\n",
    "    services:\n",
    "        web:\n",
    "            image: nginx:alpine\n",
    "            ports:\n",
    "                - \"8080:80\"\n",
    "        db:\n",
    "            image: postgres:latest\n",
    "            environment:\n",
    "                POSTGRES_USER: myuser\n",
    "                POSTGRES_PASSWORD: mypassword\n",
    "    ```\n",
    "\n",
    "2. \n",
    "    "
   ]
  }
 ],
 "metadata": {
  "kernelspec": {
   "display_name": "Python 3",
   "language": "python",
   "name": "python3"
  },
  "language_info": {
   "name": "python",
   "version": "3.11.1"
  }
 },
 "nbformat": 4,
 "nbformat_minor": 2
}
