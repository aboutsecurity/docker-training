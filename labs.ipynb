{
 "cells": [
  {
   "cell_type": "markdown",
   "metadata": {},
   "source": [
    "# Understanding Containerization\n",
    "### Docker Containers: Fundamentals, Security, and Hands-On Labs"
   ]
  },
  {
   "cell_type": "markdown",
   "metadata": {},
   "source": [
    "## Prerequisites:\n",
    "\n",
    "- Basic understanding of command-line interfaces (Linux/bash or Windows PowerShell preferred)\n",
    "- Basic familiarity with virtualization concepts (desirable)\n",
    "\n",
    "## Software:\n",
    "\n",
    "- Docker Desktop installed (or another compatible Docker environment)"
   ]
  },
  {
   "cell_type": "markdown",
   "metadata": {},
   "source": [
    "## Agenda\n",
    "\n",
    "1. Introduction & Core Concepts\n",
    "    - Lab 1: Basic Container Operations\n",
    "3. Building Images and Dockerfiles\n",
    "    - Lab 2: Creating a Dockerfile \n",
    "4. Docker Security \n",
    "    - Image Security\n",
    "    - Container Runtime Security\n",
    "    - Demo: Compromise Emulation\n",
    "5. Networking and Storage\n",
    "    - Port Mapping\n",
    "    - Docker Volumes\n",
    "    - Lab 3: Communicating Containers\n",
    "6. Conclusions and what's next\n",
    "\n",
    "\n",
    "\n",
    "\n"
   ]
  },
  {
   "cell_type": "markdown",
   "metadata": {},
   "source": [
    "## Lab 1 - Basic Container Operations\n",
    "###  See Docker CLI cheat sheet here: https://docs.docker.com/get-started/docker_cheatsheet.pdf"
   ]
  },
  {
   "cell_type": "markdown",
   "metadata": {},
   "source": [
    "1. Pulling an Image\n",
    "\n",
    "    -  Open a terminal or command prompt.\n",
    "\n",
    "    -  Run the command: `docker pull nginx`\n",
    "\n",
    "2. Running a Container\n",
    "\n",
    "    - Run the command: `docker run -d -p 80:80 nginx`\n",
    "\n",
    "    - **Explanation:** \n",
    "\n",
    "        - `-d` runs the container in detached mode (background)\n",
    "\n",
    "        - `-p` 80:80 maps port 80 of the container to port 80 on your host machine.\n",
    "\n",
    "3. Verifying the Container\n",
    "\n",
    "    -   Open a web browser and go to `http://localhost`. You should see the Nginx welcome page.\n",
    "\n",
    "    -   In your terminal, type: `docker ps` to list running containers.\n",
    "\n",
    "4. Stopping and Removing\n",
    "\n",
    "    - Get the container ID from `docker ps`.\n",
    "\n",
    "    - Stop the container: docker stop <container_id>\n",
    "    \n",
    "    - Remove the container: docker rm <container_id>\n",
    "\n",
    "    - Bonus command-line tricks for cleaning up unused containers and freeing up disk space:\n",
    "\n",
    "        - `docker ps -a -q`: This command lists all containers, including stopped ones (-a flag), and extracts only their container IDs (-q flag). It provides a list of container IDs that have exited or are currently stopped.\n",
    "        \n",
    "        - `docker stop $(docker ps -a -q)`: Stops all running containers\n",
    "        \n",
    "        - `docker rm $(docker ps -a -q)`: Removes all containers"
   ]
  }
 ],
 "metadata": {
  "kernelspec": {
   "display_name": "Python 3",
   "language": "python",
   "name": "python3"
  },
  "language_info": {
   "name": "python",
   "version": "3.11.1"
  }
 },
 "nbformat": 4,
 "nbformat_minor": 2
}
